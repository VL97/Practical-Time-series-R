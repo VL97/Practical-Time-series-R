{
 "cells": [
  {
   "cell_type": "code",
   "execution_count": 6,
   "metadata": {},
   "outputs": [],
   "source": [
    "#install.packages(\"astsa\", repos='http://cran.us.r-project.org')"
   ]
  },
  {
   "cell_type": "code",
   "execution_count": 7,
   "metadata": {},
   "outputs": [],
   "source": [
    "data(package='astsa')"
   ]
  },
  {
   "cell_type": "code",
   "execution_count": 8,
   "metadata": {},
   "outputs": [],
   "source": [
    "data(jj, package='astsa')"
   ]
  },
  {
   "cell_type": "code",
   "execution_count": 9,
   "metadata": {},
   "outputs": [
    {
     "name": "stderr",
     "output_type": "stream",
     "text": [
      "ERROR while rich displaying an object: Error in repr_matrix_generic(obj, \"\\n%s%s\\n\", sprintf(\"|%%s\\n|%s|\\n\", : formal argument \"cols\" matched by multiple actual arguments\n",
      "\n",
      "Traceback:\n",
      "1. FUN(X[[i]], ...)\n",
      "2. tryCatch(withCallingHandlers({\n",
      " .     if (!mime %in% names(repr::mime2repr)) \n",
      " .         stop(\"No repr_* for mimetype \", mime, \" in repr::mime2repr\")\n",
      " .     rpr <- repr::mime2repr[[mime]](obj)\n",
      " .     if (is.null(rpr)) \n",
      " .         return(NULL)\n",
      " .     prepare_content(is.raw(rpr), rpr)\n",
      " . }, error = error_handler), error = outer_handler)\n",
      "3. tryCatchList(expr, classes, parentenv, handlers)\n",
      "4. tryCatchOne(expr, names, parentenv, handlers[[1L]])\n",
      "5. doTryCatch(return(expr), name, parentenv, handler)\n",
      "6. withCallingHandlers({\n",
      " .     if (!mime %in% names(repr::mime2repr)) \n",
      " .         stop(\"No repr_* for mimetype \", mime, \" in repr::mime2repr\")\n",
      " .     rpr <- repr::mime2repr[[mime]](obj)\n",
      " .     if (is.null(rpr)) \n",
      " .         return(NULL)\n",
      " .     prepare_content(is.raw(rpr), rpr)\n",
      " . }, error = error_handler)\n",
      "7. repr::mime2repr[[mime]](obj)\n",
      "8. repr_markdown.ts(obj)\n",
      "9. repr_ts_generic(obj, repr_markdown.matrix, ...)\n",
      "10. repr_func(m, ..., rows = nrow(m), cols = ncol(m))\n"
     ]
    },
    {
     "data": {
      "text/html": [
       "<table>\n",
       "<thead><tr><th></th><th scope=col>Qtr1</th><th scope=col>Qtr2</th><th scope=col>Qtr3</th><th scope=col>Qtr4</th></tr></thead>\n",
       "<tbody>\n",
       "\t<tr><th scope=row>1960</th><td> 0.710000</td><td> 0.630000</td><td> 0.850000</td><td> 0.440000</td></tr>\n",
       "\t<tr><th scope=row>1961</th><td> 0.610000</td><td> 0.690000</td><td> 0.920000</td><td> 0.550000</td></tr>\n",
       "\t<tr><th scope=row>1962</th><td> 0.720000</td><td> 0.770000</td><td> 0.920000</td><td> 0.600000</td></tr>\n",
       "\t<tr><th scope=row>1963</th><td> 0.830000</td><td> 0.800000</td><td> 1.000000</td><td> 0.770000</td></tr>\n",
       "\t<tr><th scope=row>1964</th><td> 0.920000</td><td> 1.000000</td><td> 1.240000</td><td> 1.000000</td></tr>\n",
       "\t<tr><th scope=row>1965</th><td> 1.160000</td><td> 1.300000</td><td> 1.450000</td><td> 1.250000</td></tr>\n",
       "\t<tr><th scope=row>1966</th><td> 1.260000</td><td> 1.380000</td><td> 1.860000</td><td> 1.560000</td></tr>\n",
       "\t<tr><th scope=row>1967</th><td> 1.530000</td><td> 1.590000</td><td> 1.830000</td><td> 1.860000</td></tr>\n",
       "\t<tr><th scope=row>1968</th><td> 1.530000</td><td> 2.070000</td><td> 2.340000</td><td> 2.250000</td></tr>\n",
       "\t<tr><th scope=row>1969</th><td> 2.160000</td><td> 2.430000</td><td> 2.700000</td><td> 2.250000</td></tr>\n",
       "\t<tr><th scope=row>1970</th><td> 2.790000</td><td> 3.420000</td><td> 3.690000</td><td> 3.600000</td></tr>\n",
       "\t<tr><th scope=row>1971</th><td> 3.600000</td><td> 4.320000</td><td> 4.320000</td><td> 4.050000</td></tr>\n",
       "\t<tr><th scope=row>1972</th><td> 4.860000</td><td> 5.040000</td><td> 5.040000</td><td> 4.410000</td></tr>\n",
       "\t<tr><th scope=row>1973</th><td> 5.580000</td><td> 5.850000</td><td> 6.570000</td><td> 5.310000</td></tr>\n",
       "\t<tr><th scope=row>1974</th><td> 6.030000</td><td> 6.390000</td><td> 6.930000</td><td> 5.850000</td></tr>\n",
       "\t<tr><th scope=row>1975</th><td> 6.930000</td><td> 7.740000</td><td> 7.830000</td><td> 6.120000</td></tr>\n",
       "\t<tr><th scope=row>1976</th><td> 7.740000</td><td> 8.910000</td><td> 8.280000</td><td> 6.840000</td></tr>\n",
       "\t<tr><th scope=row>1977</th><td> 9.540000</td><td>10.260000</td><td> 9.540000</td><td> 8.729999</td></tr>\n",
       "\t<tr><th scope=row>1978</th><td>11.880000</td><td>12.060000</td><td>12.150000</td><td> 8.910000</td></tr>\n",
       "\t<tr><th scope=row>1979</th><td>14.040000</td><td>12.960000</td><td>14.850000</td><td> 9.990000</td></tr>\n",
       "\t<tr><th scope=row>1980</th><td>16.200000</td><td>14.670000</td><td>16.020000</td><td>11.610000</td></tr>\n",
       "</tbody>\n",
       "</table>\n"
      ],
      "text/latex": [
       "\\begin{tabular}{r|llll}\n",
       "  & Qtr1 & Qtr2 & Qtr3 & Qtr4\\\\\n",
       "\\hline\n",
       "\t1960 &  0.710000 &  0.630000 &  0.850000 &  0.440000\\\\\n",
       "\t1961 &  0.610000 &  0.690000 &  0.920000 &  0.550000\\\\\n",
       "\t1962 &  0.720000 &  0.770000 &  0.920000 &  0.600000\\\\\n",
       "\t1963 &  0.830000 &  0.800000 &  1.000000 &  0.770000\\\\\n",
       "\t1964 &  0.920000 &  1.000000 &  1.240000 &  1.000000\\\\\n",
       "\t1965 &  1.160000 &  1.300000 &  1.450000 &  1.250000\\\\\n",
       "\t1966 &  1.260000 &  1.380000 &  1.860000 &  1.560000\\\\\n",
       "\t1967 &  1.530000 &  1.590000 &  1.830000 &  1.860000\\\\\n",
       "\t1968 &  1.530000 &  2.070000 &  2.340000 &  2.250000\\\\\n",
       "\t1969 &  2.160000 &  2.430000 &  2.700000 &  2.250000\\\\\n",
       "\t1970 &  2.790000 &  3.420000 &  3.690000 &  3.600000\\\\\n",
       "\t1971 &  3.600000 &  4.320000 &  4.320000 &  4.050000\\\\\n",
       "\t1972 &  4.860000 &  5.040000 &  5.040000 &  4.410000\\\\\n",
       "\t1973 &  5.580000 &  5.850000 &  6.570000 &  5.310000\\\\\n",
       "\t1974 &  6.030000 &  6.390000 &  6.930000 &  5.850000\\\\\n",
       "\t1975 &  6.930000 &  7.740000 &  7.830000 &  6.120000\\\\\n",
       "\t1976 &  7.740000 &  8.910000 &  8.280000 &  6.840000\\\\\n",
       "\t1977 &  9.540000 & 10.260000 &  9.540000 &  8.729999\\\\\n",
       "\t1978 & 11.880000 & 12.060000 & 12.150000 &  8.910000\\\\\n",
       "\t1979 & 14.040000 & 12.960000 & 14.850000 &  9.990000\\\\\n",
       "\t1980 & 16.200000 & 14.670000 & 16.020000 & 11.610000\\\\\n",
       "\\end{tabular}\n"
      ],
      "text/plain": [
       "     Qtr1      Qtr2      Qtr3      Qtr4     \n",
       "1960  0.710000  0.630000  0.850000  0.440000\n",
       "1961  0.610000  0.690000  0.920000  0.550000\n",
       "1962  0.720000  0.770000  0.920000  0.600000\n",
       "1963  0.830000  0.800000  1.000000  0.770000\n",
       "1964  0.920000  1.000000  1.240000  1.000000\n",
       "1965  1.160000  1.300000  1.450000  1.250000\n",
       "1966  1.260000  1.380000  1.860000  1.560000\n",
       "1967  1.530000  1.590000  1.830000  1.860000\n",
       "1968  1.530000  2.070000  2.340000  2.250000\n",
       "1969  2.160000  2.430000  2.700000  2.250000\n",
       "1970  2.790000  3.420000  3.690000  3.600000\n",
       "1971  3.600000  4.320000  4.320000  4.050000\n",
       "1972  4.860000  5.040000  5.040000  4.410000\n",
       "1973  5.580000  5.850000  6.570000  5.310000\n",
       "1974  6.030000  6.390000  6.930000  5.850000\n",
       "1975  6.930000  7.740000  7.830000  6.120000\n",
       "1976  7.740000  8.910000  8.280000  6.840000\n",
       "1977  9.540000 10.260000  9.540000  8.729999\n",
       "1978 11.880000 12.060000 12.150000  8.910000\n",
       "1979 14.040000 12.960000 14.850000  9.990000\n",
       "1980 16.200000 14.670000 16.020000 11.610000"
      ]
     },
     "metadata": {},
     "output_type": "display_data"
    }
   ],
   "source": [
    "jj"
   ]
  },
  {
   "cell_type": "code",
   "execution_count": 10,
   "metadata": {},
   "outputs": [
    {
     "data": {
      "text/plain": [
       "   Min. 1st Qu.  Median    Mean 3rd Qu.    Max. \n",
       "  0.440   1.248   3.510   4.800   7.133  16.200 "
      ]
     },
     "metadata": {},
     "output_type": "display_data"
    }
   ],
   "source": [
    "summary(jj)"
   ]
  },
  {
   "cell_type": "code",
   "execution_count": 11,
   "metadata": {},
   "outputs": [
    {
     "data": {
      "text/html": [
       "4.79976189285714"
      ],
      "text/latex": [
       "4.79976189285714"
      ],
      "text/markdown": [
       "4.79976189285714"
      ],
      "text/plain": [
       "[1] 4.799762"
      ]
     },
     "metadata": {},
     "output_type": "display_data"
    }
   ],
   "source": [
    "mean(jj)"
   ]
  }
 ],
 "metadata": {
  "kernelspec": {
   "display_name": "R",
   "language": "R",
   "name": "ir"
  },
  "language_info": {
   "codemirror_mode": "r",
   "file_extension": ".r",
   "mimetype": "text/x-r-source",
   "name": "R",
   "pygments_lexer": "r",
   "version": "3.6.1"
  }
 },
 "nbformat": 4,
 "nbformat_minor": 2
}
