{
 "cells": [
  {
   "cell_type": "code",
   "execution_count": 10,
   "metadata": {},
   "outputs": [
    {
     "data": {
      "text/html": [
       "<table>\n",
       "<thead><tr><th scope=col>extra</th><th scope=col>group</th><th scope=col>ID</th></tr></thead>\n",
       "<tbody>\n",
       "\t<tr><td> 0.7</td><td>1   </td><td>1   </td></tr>\n",
       "\t<tr><td>-1.6</td><td>1   </td><td>2   </td></tr>\n",
       "\t<tr><td>-0.2</td><td>1   </td><td>3   </td></tr>\n",
       "\t<tr><td>-1.2</td><td>1   </td><td>4   </td></tr>\n",
       "\t<tr><td>-0.1</td><td>1   </td><td>5   </td></tr>\n",
       "\t<tr><td> 3.4</td><td>1   </td><td>6   </td></tr>\n",
       "\t<tr><td> 3.7</td><td>1   </td><td>7   </td></tr>\n",
       "\t<tr><td> 0.8</td><td>1   </td><td>8   </td></tr>\n",
       "\t<tr><td> 0.0</td><td>1   </td><td>9   </td></tr>\n",
       "\t<tr><td> 2.0</td><td>1   </td><td>10  </td></tr>\n",
       "\t<tr><td> 1.9</td><td>2   </td><td>1   </td></tr>\n",
       "\t<tr><td> 0.8</td><td>2   </td><td>2   </td></tr>\n",
       "\t<tr><td> 1.1</td><td>2   </td><td>3   </td></tr>\n",
       "\t<tr><td> 0.1</td><td>2   </td><td>4   </td></tr>\n",
       "\t<tr><td>-0.1</td><td>2   </td><td>5   </td></tr>\n",
       "\t<tr><td> 4.4</td><td>2   </td><td>6   </td></tr>\n",
       "\t<tr><td> 5.5</td><td>2   </td><td>7   </td></tr>\n",
       "\t<tr><td> 1.6</td><td>2   </td><td>8   </td></tr>\n",
       "\t<tr><td> 4.6</td><td>2   </td><td>9   </td></tr>\n",
       "\t<tr><td> 3.4</td><td>2   </td><td>10  </td></tr>\n",
       "</tbody>\n",
       "</table>\n"
      ],
      "text/latex": [
       "\\begin{tabular}{r|lll}\n",
       " extra & group & ID\\\\\n",
       "\\hline\n",
       "\t  0.7 & 1    & 1   \\\\\n",
       "\t -1.6 & 1    & 2   \\\\\n",
       "\t -0.2 & 1    & 3   \\\\\n",
       "\t -1.2 & 1    & 4   \\\\\n",
       "\t -0.1 & 1    & 5   \\\\\n",
       "\t  3.4 & 1    & 6   \\\\\n",
       "\t  3.7 & 1    & 7   \\\\\n",
       "\t  0.8 & 1    & 8   \\\\\n",
       "\t  0.0 & 1    & 9   \\\\\n",
       "\t  2.0 & 1    & 10  \\\\\n",
       "\t  1.9 & 2    & 1   \\\\\n",
       "\t  0.8 & 2    & 2   \\\\\n",
       "\t  1.1 & 2    & 3   \\\\\n",
       "\t  0.1 & 2    & 4   \\\\\n",
       "\t -0.1 & 2    & 5   \\\\\n",
       "\t  4.4 & 2    & 6   \\\\\n",
       "\t  5.5 & 2    & 7   \\\\\n",
       "\t  1.6 & 2    & 8   \\\\\n",
       "\t  4.6 & 2    & 9   \\\\\n",
       "\t  3.4 & 2    & 10  \\\\\n",
       "\\end{tabular}\n"
      ],
      "text/markdown": [
       "\n",
       "| extra | group | ID |\n",
       "|---|---|---|\n",
       "|  0.7 | 1    | 1    |\n",
       "| -1.6 | 1    | 2    |\n",
       "| -0.2 | 1    | 3    |\n",
       "| -1.2 | 1    | 4    |\n",
       "| -0.1 | 1    | 5    |\n",
       "|  3.4 | 1    | 6    |\n",
       "|  3.7 | 1    | 7    |\n",
       "|  0.8 | 1    | 8    |\n",
       "|  0.0 | 1    | 9    |\n",
       "|  2.0 | 1    | 10   |\n",
       "|  1.9 | 2    | 1    |\n",
       "|  0.8 | 2    | 2    |\n",
       "|  1.1 | 2    | 3    |\n",
       "|  0.1 | 2    | 4    |\n",
       "| -0.1 | 2    | 5    |\n",
       "|  4.4 | 2    | 6    |\n",
       "|  5.5 | 2    | 7    |\n",
       "|  1.6 | 2    | 8    |\n",
       "|  4.6 | 2    | 9    |\n",
       "|  3.4 | 2    | 10   |\n",
       "\n"
      ],
      "text/plain": [
       "   extra group ID\n",
       "1   0.7  1     1 \n",
       "2  -1.6  1     2 \n",
       "3  -0.2  1     3 \n",
       "4  -1.2  1     4 \n",
       "5  -0.1  1     5 \n",
       "6   3.4  1     6 \n",
       "7   3.7  1     7 \n",
       "8   0.8  1     8 \n",
       "9   0.0  1     9 \n",
       "10  2.0  1     10\n",
       "11  1.9  2     1 \n",
       "12  0.8  2     2 \n",
       "13  1.1  2     3 \n",
       "14  0.1  2     4 \n",
       "15 -0.1  2     5 \n",
       "16  4.4  2     6 \n",
       "17  5.5  2     7 \n",
       "18  1.6  2     8 \n",
       "19  4.6  2     9 \n",
       "20  3.4  2     10"
      ]
     },
     "metadata": {},
     "output_type": "display_data"
    }
   ],
   "source": [
    "sleep\n",
    "attach(sleep)\n"
   ]
  },
  {
   "cell_type": "markdown",
   "metadata": {},
   "source": [
    "Bold line is median:"
   ]
  },
  {
   "cell_type": "code",
   "execution_count": 11,
   "metadata": {},
   "outputs": [
    {
     "data": {
      "image/png": "[encoded data removed]",
      "text/plain": [
       "Plot with title \"Extra Sleep in Gossett Data by Group\""
      ]
     },
     "metadata": {},
     "output_type": "display_data"
    }
   ],
   "source": [
    "plot(extra~group, main = \"Extra Sleep in Gossett Data by Group\")"
   ]
  },
  {
   "cell_type": "code",
   "execution_count": 13,
   "metadata": {},
   "outputs": [],
   "source": [
    "extra.1=extra[group==1]\n",
    "extra.2=extra[group==2]"
   ]
  },
  {
   "cell_type": "code",
   "execution_count": 14,
   "metadata": {},
   "outputs": [
    {
     "data": {
      "text/plain": [
       "\n",
       "\tPaired t-test\n",
       "\n",
       "data:  extra.1 and extra.2\n",
       "t = -4.0621, df = 9, p-value = 0.002833\n",
       "alternative hypothesis: true difference in means is not equal to 0\n",
       "95 percent confidence interval:\n",
       " -2.4598858 -0.7001142\n",
       "sample estimates:\n",
       "mean of the differences \n",
       "                  -1.58 \n"
      ]
     },
     "metadata": {},
     "output_type": "display_data"
    }
   ],
   "source": [
    "t.test(extra.1, extra.2, paired=TRUE, alternative=\"two.sided\")"
   ]
  },
  {
   "cell_type": "markdown",
   "metadata": {},
   "source": [
    "The p-value is quite small and our data are significant at the customary 𝛼=0.01 level."
   ]
  },
  {
   "cell_type": "markdown",
   "metadata": {},
   "source": [
    "For above test we must have the differences extra.1-extra.2 as Normally distributed, we check it again using:"
   ]
  },
  {
   "cell_type": "code",
   "execution_count": 15,
   "metadata": {},
   "outputs": [
    {
     "data": {
      "image/png": "[encoded data removed]",
      "text/plain": [
       "Plot with title \"Normal Probability Plot\""
      ]
     },
     "metadata": {},
     "output_type": "display_data"
    }
   ],
   "source": [
    "diffs = extra.1-extra.2\n",
    "qqnorm(diffs, main= \"Normal Probability Plot\")\n",
    "qqline(diffs)"
   ]
  },
  {
   "cell_type": "markdown",
   "metadata": {},
   "source": [
    "# Alternatively we can do a regression:"
   ]
  },
  {
   "cell_type": "code",
   "execution_count": 17,
   "metadata": {},
   "outputs": [
    {
     "data": {
      "image/png": "[encoded data removed]",
      "text/plain": [
       "Plot with title \"Extra Sleep Drug 2 against Extra Sleep Drug 1\""
      ]
     },
     "metadata": {},
     "output_type": "display_data"
    }
   ],
   "source": [
    "plot(extra.2~extra.1, xlab='extra sleep with drug 1', ylab='extra sleep with drug 2' ,\n",
    "main='Extra Sleep Drug 2 against Extra Sleep Drug 1')"
   ]
  },
  {
   "cell_type": "code",
   "execution_count": 19,
   "metadata": {},
   "outputs": [
    {
     "data": {
      "image/png": "[encoded data removed]",
      "text/plain": [
       "Plot with title \"Extra Sleep Drug 2 against Extra Sleep Drug 1\""
      ]
     },
     "metadata": {},
     "output_type": "display_data"
    }
   ],
   "source": [
    "plot(extra.2~extra.1, xlab='extra sleep with drug 1', ylab='extra sleep with drug 2' ,\n",
    "main='Extra Sleep Drug 2 against Extra Sleep Drug 1')\n",
    "sleep.linear.model = lm(extra.2 ~ extra.1 )\n",
    "abline(sleep.linear.model)"
   ]
  },
  {
   "cell_type": "markdown",
   "metadata": {},
   "source": [
    "we have : 𝑒𝑥𝑡𝑟𝑎.2= 0.8899⋅𝑒𝑥𝑡𝑟𝑎.1+1.6625"
   ]
  },
  {
   "cell_type": "code",
   "execution_count": 20,
   "metadata": {},
   "outputs": [
    {
     "data": {
      "text/plain": [
       "\n",
       "Call:\n",
       "lm(formula = extra.2 ~ extra.1)\n",
       "\n",
       "Residuals:\n",
       "    Min      1Q  Median      3Q     Max \n",
       "-1.6735 -0.4673 -0.3365  0.3979  2.9375 \n",
       "\n",
       "Coefficients:\n",
       "            Estimate Std. Error t value Pr(>|t|)   \n",
       "(Intercept)   1.6625     0.4452   3.734  0.00575 **\n",
       "extra.1       0.8899     0.2399   3.709  0.00596 **\n",
       "---\n",
       "Signif. codes:  0 '***' 0.001 '**' 0.01 '*' 0.05 '.' 0.1 ' ' 1\n",
       "\n",
       "Residual standard error: 1.288 on 8 degrees of freedom\n",
       "Multiple R-squared:  0.6323,\tAdjusted R-squared:  0.5863 \n",
       "F-statistic: 13.76 on 1 and 8 DF,  p-value: 0.005965\n"
      ]
     },
     "metadata": {},
     "output_type": "display_data"
    }
   ],
   "source": [
    "summary(sleep.linear.model)"
   ]
  },
  {
   "cell_type": "code",
   "execution_count": 23,
   "metadata": {},
   "outputs": [
    {
     "data": {
      "text/html": [
       "<dl class=dl-horizontal>\n",
       "\t<dt>1</dt>\n",
       "\t\t<dd>-0.385502516924145</dd>\n",
       "\t<dt>2</dt>\n",
       "\t\t<dd>0.56138170456518</dd>\n",
       "\t<dt>3</dt>\n",
       "\t\t<dd>-0.384547821558757</dd>\n",
       "\t<dt>4</dt>\n",
       "\t\t<dd>-0.49459816004166</dd>\n",
       "\t<dt>5</dt>\n",
       "\t\t<dd>-1.67354278771047</dd>\n",
       "\t<dt>6</dt>\n",
       "\t\t<dd>-0.288366603020308</dd>\n",
       "\t<dt>7</dt>\n",
       "\t\t<dd>0.544648498524561</dd>\n",
       "\t<dt>8</dt>\n",
       "\t\t<dd>-0.774497483075855</dd>\n",
       "\t<dt>9</dt>\n",
       "\t\t<dd>2.93746224613782</dd>\n",
       "\t<dt>10</dt>\n",
       "\t\t<dd>-0.0424370768963724</dd>\n",
       "</dl>\n"
      ],
      "text/latex": [
       "\\begin{description*}\n",
       "\\item[1] -0.385502516924145\n",
       "\\item[2] 0.56138170456518\n",
       "\\item[3] -0.384547821558757\n",
       "\\item[4] -0.49459816004166\n",
       "\\item[5] -1.67354278771047\n",
       "\\item[6] -0.288366603020308\n",
       "\\item[7] 0.544648498524561\n",
       "\\item[8] -0.774497483075855\n",
       "\\item[9] 2.93746224613782\n",
       "\\item[10] -0.0424370768963724\n",
       "\\end{description*}\n"
      ],
      "text/markdown": [
       "1\n",
       ":   -0.3855025169241452\n",
       ":   0.561381704565183\n",
       ":   -0.3845478215587574\n",
       ":   -0.494598160041665\n",
       ":   -1.673542787710476\n",
       ":   -0.2883666030203087\n",
       ":   0.5446484985245618\n",
       ":   -0.7744974830758559\n",
       ":   2.9374622461378210\n",
       ":   -0.0424370768963724\n",
       "\n"
      ],
      "text/plain": [
       "          1           2           3           4           5           6 \n",
       "-0.38550252  0.56138170 -0.38454782 -0.49459816 -1.67354279 -0.28836660 \n",
       "          7           8           9          10 \n",
       " 0.54464850 -0.77449748  2.93746225 -0.04243708 "
      ]
     },
     "metadata": {},
     "output_type": "display_data"
    }
   ],
   "source": [
    "(sleep.residual=resid(sleep.linear.model))"
   ]
  },
  {
   "cell_type": "markdown",
   "metadata": {},
   "source": [
    "checking autocorrelation"
   ]
  },
  {
   "cell_type": "code",
   "execution_count": 25,
   "metadata": {},
   "outputs": [
    {
     "data": {
      "image/png": "[encoded data removed]",
      "text/plain": [
       "Plot with title \"Residuals on Time\""
      ]
     },
     "metadata": {},
     "output_type": "display_data"
    }
   ],
   "source": [
    "plot(sleep.residual ~ time(extra.2), main=\"Residuals on Time\")"
   ]
  },
  {
   "cell_type": "code",
   "execution_count": 27,
   "metadata": {},
   "outputs": [
    {
     "data": {
      "image/png": "[encoded data removed]",
      "text/plain": [
       "Plot with title \"Normal Probability Plot\""
      ]
     },
     "metadata": {},
     "output_type": "display_data"
    }
   ],
   "source": [
    "qqnorm(sleep.residual, main= \"Normal Probability Plot\")\n",
    "qqline(sleep.residual)"
   ]
  }
 ],
 "metadata": {
  "kernelspec": {
   "display_name": "R",
   "language": "R",
   "name": "ir"
  },
  "language_info": {
   "codemirror_mode": "r",
   "file_extension": ".r",
   "mimetype": "text/x-r-source",
   "name": "R",
   "pygments_lexer": "r",
   "version": "3.6.1"
  }
 },
 "nbformat": 4,
 "nbformat_minor": 2
}
