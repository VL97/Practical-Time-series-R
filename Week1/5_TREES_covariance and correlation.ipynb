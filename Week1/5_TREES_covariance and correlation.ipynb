{
 "cells": [
  {
   "cell_type": "code",
   "execution_count": 2,
   "metadata": {},
   "outputs": [],
   "source": [
    "help(trees)"
   ]
  },
  {
   "cell_type": "code",
   "execution_count": 14,
   "metadata": {},
   "outputs": [
    {
     "data": {
      "image/png": "[encoded data removed]",
      "text/plain": [
       "plot without title"
      ]
     },
     "metadata": {},
     "output_type": "display_data"
    }
   ],
   "source": [
    "pairs(trees, pch = 21, bg = c(\"violet\"))"
   ]
  },
  {
   "cell_type": "code",
   "execution_count": 15,
   "metadata": {},
   "outputs": [
    {
     "data": {
      "text/html": [
       "<table>\n",
       "<thead><tr><th></th><th scope=col>Girth</th><th scope=col>Height</th><th scope=col>Volume</th></tr></thead>\n",
       "<tbody>\n",
       "\t<tr><th scope=row>Girth</th><td> 9.847914</td><td>10.38333 </td><td> 49.88812</td></tr>\n",
       "\t<tr><th scope=row>Height</th><td>10.383333</td><td>40.60000 </td><td> 62.66000</td></tr>\n",
       "\t<tr><th scope=row>Volume</th><td>49.888118</td><td>62.66000 </td><td>270.20280</td></tr>\n",
       "</tbody>\n",
       "</table>\n"
      ],
      "text/latex": [
       "\\begin{tabular}{r|lll}\n",
       "  & Girth & Height & Volume\\\\\n",
       "\\hline\n",
       "\tGirth &  9.847914 & 10.38333  &  49.88812\\\\\n",
       "\tHeight & 10.383333 & 40.60000  &  62.66000\\\\\n",
       "\tVolume & 49.888118 & 62.66000  & 270.20280\\\\\n",
       "\\end{tabular}\n"
      ],
      "text/markdown": [
       "\n",
       "| <!--/--> | Girth | Height | Volume |\n",
       "|---|---|---|---|\n",
       "| Girth |  9.847914 | 10.38333  |  49.88812 |\n",
       "| Height | 10.383333 | 40.60000  |  62.66000 |\n",
       "| Volume | 49.888118 | 62.66000  | 270.20280 |\n",
       "\n"
      ],
      "text/plain": [
       "       Girth     Height   Volume   \n",
       "Girth   9.847914 10.38333  49.88812\n",
       "Height 10.383333 40.60000  62.66000\n",
       "Volume 49.888118 62.66000 270.20280"
      ]
     },
     "metadata": {},
     "output_type": "display_data"
    }
   ],
   "source": [
    "cov(trees)"
   ]
  },
  {
   "cell_type": "code",
   "execution_count": 17,
   "metadata": {},
   "outputs": [
    {
     "data": {
      "text/html": [
       "<table>\n",
       "<thead><tr><th></th><th scope=col>Girth</th><th scope=col>Height</th><th scope=col>Volume</th></tr></thead>\n",
       "<tbody>\n",
       "\t<tr><th scope=row>Girth</th><td>1.0000000</td><td>0.5192801</td><td>0.9671194</td></tr>\n",
       "\t<tr><th scope=row>Height</th><td>0.5192801</td><td>1.0000000</td><td>0.5982497</td></tr>\n",
       "\t<tr><th scope=row>Volume</th><td>0.9671194</td><td>0.5982497</td><td>1.0000000</td></tr>\n",
       "</tbody>\n",
       "</table>\n"
      ],
      "text/latex": [
       "\\begin{tabular}{r|lll}\n",
       "  & Girth & Height & Volume\\\\\n",
       "\\hline\n",
       "\tGirth & 1.0000000 & 0.5192801 & 0.9671194\\\\\n",
       "\tHeight & 0.5192801 & 1.0000000 & 0.5982497\\\\\n",
       "\tVolume & 0.9671194 & 0.5982497 & 1.0000000\\\\\n",
       "\\end{tabular}\n"
      ],
      "text/markdown": [
       "\n",
       "| <!--/--> | Girth | Height | Volume |\n",
       "|---|---|---|---|\n",
       "| Girth | 1.0000000 | 0.5192801 | 0.9671194 |\n",
       "| Height | 0.5192801 | 1.0000000 | 0.5982497 |\n",
       "| Volume | 0.9671194 | 0.5982497 | 1.0000000 |\n",
       "\n"
      ],
      "text/plain": [
       "       Girth     Height    Volume   \n",
       "Girth  1.0000000 0.5192801 0.9671194\n",
       "Height 0.5192801 1.0000000 0.5982497\n",
       "Volume 0.9671194 0.5982497 1.0000000"
      ]
     },
     "metadata": {},
     "output_type": "display_data"
    }
   ],
   "source": [
    "cor(trees)"
   ]
  }
 ],
 "metadata": {
  "kernelspec": {
   "display_name": "R",
   "language": "R",
   "name": "ir"
  },
  "language_info": {
   "codemirror_mode": "r",
   "file_extension": ".r",
   "mimetype": "text/x-r-source",
   "name": "R",
   "pygments_lexer": "r",
   "version": "3.6.1"
  }
 },
 "nbformat": 4,
 "nbformat_minor": 2
}
