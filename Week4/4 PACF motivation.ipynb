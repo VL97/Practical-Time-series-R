{
 "cells": [
  {
   "cell_type": "code",
   "execution_count": 37,
   "metadata": {},
   "outputs": [],
   "source": [
    "#install.packages(\"isdals\", repos='http://cran.us.r-project.org')"
   ]
  },
  {
   "cell_type": "code",
   "execution_count": 38,
   "metadata": {},
   "outputs": [],
   "source": [
    "#install.packages(\"ppcor\", repos='http://cran.us.r-project.org')"
   ]
  },
  {
   "cell_type": "code",
   "execution_count": 39,
   "metadata": {},
   "outputs": [],
   "source": [
    "data(bodyfat, package='isdals')"
   ]
  },
  {
   "cell_type": "code",
   "execution_count": 40,
   "metadata": {},
   "outputs": [],
   "source": [
    "library(ppcor)"
   ]
  },
  {
   "cell_type": "code",
   "execution_count": 41,
   "metadata": {},
   "outputs": [
    {
     "data": {
      "text/html": [
       "<table>\n",
       "<thead><tr><th scope=col>Fat</th><th scope=col>Triceps</th><th scope=col>Thigh</th><th scope=col>Midarm</th></tr></thead>\n",
       "<tbody>\n",
       "\t<tr><td>11.9</td><td>19.5</td><td>43.1</td><td>29.1</td></tr>\n",
       "\t<tr><td>22.8</td><td>24.7</td><td>49.8</td><td>28.2</td></tr>\n",
       "\t<tr><td>18.7</td><td>30.7</td><td>51.9</td><td>37.0</td></tr>\n",
       "\t<tr><td>20.1</td><td>29.8</td><td>54.3</td><td>31.1</td></tr>\n",
       "\t<tr><td>12.9</td><td>19.1</td><td>42.2</td><td>30.9</td></tr>\n",
       "\t<tr><td>21.7</td><td>25.6</td><td>53.9</td><td>23.7</td></tr>\n",
       "\t<tr><td>27.1</td><td>31.4</td><td>58.5</td><td>27.6</td></tr>\n",
       "\t<tr><td>25.4</td><td>27.9</td><td>52.1</td><td>30.6</td></tr>\n",
       "\t<tr><td>21.3</td><td>22.1</td><td>49.9</td><td>23.2</td></tr>\n",
       "\t<tr><td>19.3</td><td>25.5</td><td>53.5</td><td>24.8</td></tr>\n",
       "\t<tr><td>25.4</td><td>31.1</td><td>56.6</td><td>30.0</td></tr>\n",
       "\t<tr><td>27.2</td><td>30.4</td><td>56.7</td><td>28.3</td></tr>\n",
       "\t<tr><td>11.7</td><td>18.7</td><td>46.5</td><td>23.0</td></tr>\n",
       "\t<tr><td>17.8</td><td>19.7</td><td>44.2</td><td>28.6</td></tr>\n",
       "\t<tr><td>12.8</td><td>14.6</td><td>42.7</td><td>21.3</td></tr>\n",
       "\t<tr><td>23.9</td><td>29.5</td><td>54.4</td><td>30.1</td></tr>\n",
       "\t<tr><td>22.6</td><td>27.7</td><td>55.3</td><td>25.7</td></tr>\n",
       "\t<tr><td>25.4</td><td>30.2</td><td>58.6</td><td>24.6</td></tr>\n",
       "\t<tr><td>14.8</td><td>22.7</td><td>48.2</td><td>27.1</td></tr>\n",
       "\t<tr><td>21.1</td><td>25.2</td><td>51.0</td><td>27.5</td></tr>\n",
       "</tbody>\n",
       "</table>\n"
      ],
      "text/latex": [
       "\\begin{tabular}{r|llll}\n",
       " Fat & Triceps & Thigh & Midarm\\\\\n",
       "\\hline\n",
       "\t 11.9 & 19.5 & 43.1 & 29.1\\\\\n",
       "\t 22.8 & 24.7 & 49.8 & 28.2\\\\\n",
       "\t 18.7 & 30.7 & 51.9 & 37.0\\\\\n",
       "\t 20.1 & 29.8 & 54.3 & 31.1\\\\\n",
       "\t 12.9 & 19.1 & 42.2 & 30.9\\\\\n",
       "\t 21.7 & 25.6 & 53.9 & 23.7\\\\\n",
       "\t 27.1 & 31.4 & 58.5 & 27.6\\\\\n",
       "\t 25.4 & 27.9 & 52.1 & 30.6\\\\\n",
       "\t 21.3 & 22.1 & 49.9 & 23.2\\\\\n",
       "\t 19.3 & 25.5 & 53.5 & 24.8\\\\\n",
       "\t 25.4 & 31.1 & 56.6 & 30.0\\\\\n",
       "\t 27.2 & 30.4 & 56.7 & 28.3\\\\\n",
       "\t 11.7 & 18.7 & 46.5 & 23.0\\\\\n",
       "\t 17.8 & 19.7 & 44.2 & 28.6\\\\\n",
       "\t 12.8 & 14.6 & 42.7 & 21.3\\\\\n",
       "\t 23.9 & 29.5 & 54.4 & 30.1\\\\\n",
       "\t 22.6 & 27.7 & 55.3 & 25.7\\\\\n",
       "\t 25.4 & 30.2 & 58.6 & 24.6\\\\\n",
       "\t 14.8 & 22.7 & 48.2 & 27.1\\\\\n",
       "\t 21.1 & 25.2 & 51.0 & 27.5\\\\\n",
       "\\end{tabular}\n"
      ],
      "text/markdown": [
       "\n",
       "| Fat | Triceps | Thigh | Midarm |\n",
       "|---|---|---|---|\n",
       "| 11.9 | 19.5 | 43.1 | 29.1 |\n",
       "| 22.8 | 24.7 | 49.8 | 28.2 |\n",
       "| 18.7 | 30.7 | 51.9 | 37.0 |\n",
       "| 20.1 | 29.8 | 54.3 | 31.1 |\n",
       "| 12.9 | 19.1 | 42.2 | 30.9 |\n",
       "| 21.7 | 25.6 | 53.9 | 23.7 |\n",
       "| 27.1 | 31.4 | 58.5 | 27.6 |\n",
       "| 25.4 | 27.9 | 52.1 | 30.6 |\n",
       "| 21.3 | 22.1 | 49.9 | 23.2 |\n",
       "| 19.3 | 25.5 | 53.5 | 24.8 |\n",
       "| 25.4 | 31.1 | 56.6 | 30.0 |\n",
       "| 27.2 | 30.4 | 56.7 | 28.3 |\n",
       "| 11.7 | 18.7 | 46.5 | 23.0 |\n",
       "| 17.8 | 19.7 | 44.2 | 28.6 |\n",
       "| 12.8 | 14.6 | 42.7 | 21.3 |\n",
       "| 23.9 | 29.5 | 54.4 | 30.1 |\n",
       "| 22.6 | 27.7 | 55.3 | 25.7 |\n",
       "| 25.4 | 30.2 | 58.6 | 24.6 |\n",
       "| 14.8 | 22.7 | 48.2 | 27.1 |\n",
       "| 21.1 | 25.2 | 51.0 | 27.5 |\n",
       "\n"
      ],
      "text/plain": [
       "   Fat  Triceps Thigh Midarm\n",
       "1  11.9 19.5    43.1  29.1  \n",
       "2  22.8 24.7    49.8  28.2  \n",
       "3  18.7 30.7    51.9  37.0  \n",
       "4  20.1 29.8    54.3  31.1  \n",
       "5  12.9 19.1    42.2  30.9  \n",
       "6  21.7 25.6    53.9  23.7  \n",
       "7  27.1 31.4    58.5  27.6  \n",
       "8  25.4 27.9    52.1  30.6  \n",
       "9  21.3 22.1    49.9  23.2  \n",
       "10 19.3 25.5    53.5  24.8  \n",
       "11 25.4 31.1    56.6  30.0  \n",
       "12 27.2 30.4    56.7  28.3  \n",
       "13 11.7 18.7    46.5  23.0  \n",
       "14 17.8 19.7    44.2  28.6  \n",
       "15 12.8 14.6    42.7  21.3  \n",
       "16 23.9 29.5    54.4  30.1  \n",
       "17 22.6 27.7    55.3  25.7  \n",
       "18 25.4 30.2    58.6  24.6  \n",
       "19 14.8 22.7    48.2  27.1  \n",
       "20 21.1 25.2    51.0  27.5  "
      ]
     },
     "metadata": {},
     "output_type": "display_data"
    }
   ],
   "source": [
    "bodyfat"
   ]
  },
  {
   "cell_type": "markdown",
   "metadata": {},
   "source": [
    "These variables are highly related as seen:"
   ]
  },
  {
   "cell_type": "markdown",
   "metadata": {},
   "source": [
    "# Correlations"
   ]
  },
  {
   "cell_type": "code",
   "execution_count": 42,
   "metadata": {},
   "outputs": [
    {
     "name": "stderr",
     "output_type": "stream",
     "text": [
      "The following objects are masked from bodyfat (pos = 5):\n",
      "\n",
      "    Fat, Midarm, Thigh, Triceps\n",
      "\n"
     ]
    },
    {
     "data": {
      "image/png": "[encoded data removed]",
      "text/plain": [
       "plot without title"
      ]
     },
     "metadata": {},
     "output_type": "display_data"
    }
   ],
   "source": [
    "attach(bodyfat)\n",
    "pairs( cbind( Fat, Triceps, Thigh, Midarm) )"
   ]
  },
  {
   "cell_type": "markdown",
   "metadata": {},
   "source": [
    "Pair wise correlations:"
   ]
  },
  {
   "cell_type": "code",
   "execution_count": 43,
   "metadata": {},
   "outputs": [
    {
     "data": {
      "text/html": [
       "<table>\n",
       "<thead><tr><th></th><th scope=col>Fat</th><th scope=col>Triceps</th><th scope=col>Thigh</th><th scope=col>Midarm</th></tr></thead>\n",
       "<tbody>\n",
       "\t<tr><th scope=row>Fat</th><td>1.0000000</td><td>0.8432654</td><td>0.8780896</td><td>0.1424440</td></tr>\n",
       "\t<tr><th scope=row>Triceps</th><td>0.8432654</td><td>1.0000000</td><td>0.9238425</td><td>0.4577772</td></tr>\n",
       "\t<tr><th scope=row>Thigh</th><td>0.8780896</td><td>0.9238425</td><td>1.0000000</td><td>0.0846675</td></tr>\n",
       "\t<tr><th scope=row>Midarm</th><td>0.1424440</td><td>0.4577772</td><td>0.0846675</td><td>1.0000000</td></tr>\n",
       "</tbody>\n",
       "</table>\n"
      ],
      "text/latex": [
       "\\begin{tabular}{r|llll}\n",
       "  & Fat & Triceps & Thigh & Midarm\\\\\n",
       "\\hline\n",
       "\tFat & 1.0000000 & 0.8432654 & 0.8780896 & 0.1424440\\\\\n",
       "\tTriceps & 0.8432654 & 1.0000000 & 0.9238425 & 0.4577772\\\\\n",
       "\tThigh & 0.8780896 & 0.9238425 & 1.0000000 & 0.0846675\\\\\n",
       "\tMidarm & 0.1424440 & 0.4577772 & 0.0846675 & 1.0000000\\\\\n",
       "\\end{tabular}\n"
      ],
      "text/markdown": [
       "\n",
       "| <!--/--> | Fat | Triceps | Thigh | Midarm |\n",
       "|---|---|---|---|---|\n",
       "| Fat | 1.0000000 | 0.8432654 | 0.8780896 | 0.1424440 |\n",
       "| Triceps | 0.8432654 | 1.0000000 | 0.9238425 | 0.4577772 |\n",
       "| Thigh | 0.8780896 | 0.9238425 | 1.0000000 | 0.0846675 |\n",
       "| Midarm | 0.1424440 | 0.4577772 | 0.0846675 | 1.0000000 |\n",
       "\n"
      ],
      "text/plain": [
       "        Fat       Triceps   Thigh     Midarm   \n",
       "Fat     1.0000000 0.8432654 0.8780896 0.1424440\n",
       "Triceps 0.8432654 1.0000000 0.9238425 0.4577772\n",
       "Thigh   0.8780896 0.9238425 1.0000000 0.0846675\n",
       "Midarm  0.1424440 0.4577772 0.0846675 1.0000000"
      ]
     },
     "metadata": {},
     "output_type": "display_data"
    }
   ],
   "source": [
    "t=cor( cbind( Fat, Triceps, Thigh, Midarm) )     \n",
    "t"
   ]
  },
  {
   "cell_type": "code",
   "execution_count": 44,
   "metadata": {},
   "outputs": [
    {
     "data": {
      "text/html": [
       "0.843265447860855"
      ],
      "text/latex": [
       "0.843265447860855"
      ],
      "text/markdown": [
       "0.843265447860855"
      ],
      "text/plain": [
       "[1] 0.8432654"
      ]
     },
     "metadata": {},
     "output_type": "display_data"
    }
   ],
   "source": [
    "cor_Fat_thigh=t[2][1]\n",
    "cor_Fat_thigh                        "
   ]
  },
  {
   "cell_type": "markdown",
   "metadata": {},
   "source": [
    "# A partial correlation intuition"
   ]
  },
  {
   "cell_type": "code",
   "execution_count": 45,
   "metadata": {},
   "outputs": [
    {
     "data": {
      "text/html": [
       "0.174982155657224"
      ],
      "text/latex": [
       "0.174982155657224"
      ],
      "text/markdown": [
       "0.174982155657224"
      ],
      "text/plain": [
       "[1] 0.1749822"
      ]
     },
     "metadata": {},
     "output_type": "display_data"
    }
   ],
   "source": [
    "Fat.hat = predict(lm(Fat~Thigh))\n",
    "Triceps.hat = predict( lm(Triceps~Thigh) )\n",
    "cor( (Fat- Fat.hat), (Triceps- Triceps.hat) ) "
   ]
  },
  {
   "cell_type": "markdown",
   "metadata": {},
   "source": [
    "<ul>\n",
    "<li> (Fat-Fat.hat) is the residual Fat which has excluded the thigh's(ie Fat.hat) effect on Fat. </li>\n",
    "<li>(Triceps-Triceps.hat) is the residual Triceps which has excluded the thigh's(ie Triceps.hat) effect on Triceps.</li>\n",
    "</ul>"
   ]
  },
  {
   "cell_type": "markdown",
   "metadata": {},
   "source": [
    "We have high correlation between Fat and Triceps (due to Thighs) but low partial correlation (∂Fat)/(∂Triceps) when Thigh is held constant. \n",
    "\n",
    "Explanation:<br>\n",
    "let Fat be linear model of:<br>\n",
    "Fat=c1.Triceps+c2.Thighs\t\t(regressed by: Fat.hat = (c1.hat).Triceps+(c2.hat).Thighs)<br>\n",
    "then:<br>\n",
    "∂Fat/∂Triceps = c1 i.e. the partial correlation may be low ie (0.1749) <br>\n",
    "but <br>\n",
    "<b>d</b>Fat/<b>d</b>Triceps = c1+c2.<b>d</b>Thighs/<b>d</b>Triceps i.e. general correlation may be high ie (0.8432) <br>\n",
    "due to high linear correlation (not partial correlation!) between Thighs and Triceps themselves (0.923), hinting at multicollinearity in the above linear regression model. \n"
   ]
  },
  {
   "cell_type": "markdown",
   "metadata": {},
   "source": [
    "# Actual Partial correlations"
   ]
  },
  {
   "cell_type": "markdown",
   "metadata": {},
   "source": [
    "We can do the same for Fat and Triceps taking all other variables as given ie this time Midarm and Thighs"
   ]
  },
  {
   "cell_type": "code",
   "execution_count": 46,
   "metadata": {},
   "outputs": [
    {
     "data": {
      "text/html": [
       "0.338149972518607"
      ],
      "text/latex": [
       "0.338149972518607"
      ],
      "text/markdown": [
       "0.338149972518607"
      ],
      "text/plain": [
       "[1] 0.33815"
      ]
     },
     "metadata": {},
     "output_type": "display_data"
    }
   ],
   "source": [
    "Fat.hat = predict(lm(Fat~Thigh+Midarm))\n",
    "Triceps.hat = predict( lm(Triceps~Thigh+Midarm) )\n",
    "cor( (Fat- Fat.hat), (Triceps- Triceps.hat) ) "
   ]
  },
  {
   "cell_type": "markdown",
   "metadata": {},
   "source": [
    "Above value is nicely obtained by use of pcor listing all pairwise partial correlation coefficients"
   ]
  },
  {
   "cell_type": "code",
   "execution_count": 48,
   "metadata": {},
   "outputs": [
    {
     "data": {
      "text/html": [
       "<table>\n",
       "<thead><tr><th></th><th scope=col>Fat</th><th scope=col>Triceps</th><th scope=col>Thigh</th><th scope=col>Midarm</th></tr></thead>\n",
       "<tbody>\n",
       "\t<tr><th scope=row>Fat</th><td> 1.0000000</td><td>0.3381500 </td><td>-0.2665991</td><td>-0.3240520</td></tr>\n",
       "\t<tr><th scope=row>Triceps</th><td> 0.3381500</td><td>1.0000000 </td><td> 0.9963725</td><td> 0.9955918</td></tr>\n",
       "\t<tr><th scope=row>Thigh</th><td>-0.2665991</td><td>0.9963725 </td><td> 1.0000000</td><td>-0.9926612</td></tr>\n",
       "\t<tr><th scope=row>Midarm</th><td>-0.3240520</td><td>0.9955918 </td><td>-0.9926612</td><td> 1.0000000</td></tr>\n",
       "</tbody>\n",
       "</table>\n"
      ],
      "text/latex": [
       "\\begin{tabular}{r|llll}\n",
       "  & Fat & Triceps & Thigh & Midarm\\\\\n",
       "\\hline\n",
       "\tFat &  1.0000000 & 0.3381500  & -0.2665991 & -0.3240520\\\\\n",
       "\tTriceps &  0.3381500 & 1.0000000  &  0.9963725 &  0.9955918\\\\\n",
       "\tThigh & -0.2665991 & 0.9963725  &  1.0000000 & -0.9926612\\\\\n",
       "\tMidarm & -0.3240520 & 0.9955918  & -0.9926612 &  1.0000000\\\\\n",
       "\\end{tabular}\n"
      ],
      "text/markdown": [
       "\n",
       "| <!--/--> | Fat | Triceps | Thigh | Midarm |\n",
       "|---|---|---|---|---|\n",
       "| Fat |  1.0000000 | 0.3381500  | -0.2665991 | -0.3240520 |\n",
       "| Triceps |  0.3381500 | 1.0000000  |  0.9963725 |  0.9955918 |\n",
       "| Thigh | -0.2665991 | 0.9963725  |  1.0000000 | -0.9926612 |\n",
       "| Midarm | -0.3240520 | 0.9955918  | -0.9926612 |  1.0000000 |\n",
       "\n"
      ],
      "text/plain": [
       "        Fat        Triceps   Thigh      Midarm    \n",
       "Fat      1.0000000 0.3381500 -0.2665991 -0.3240520\n",
       "Triceps  0.3381500 1.0000000  0.9963725  0.9955918\n",
       "Thigh   -0.2665991 0.9963725  1.0000000 -0.9926612\n",
       "Midarm  -0.3240520 0.9955918 -0.9926612  1.0000000"
      ]
     },
     "metadata": {},
     "output_type": "display_data"
    }
   ],
   "source": [
    "pt=pcor( cbind( Fat, Triceps, Thigh, Midarm) )\n",
    "pt$estimate"
   ]
  }
 ],
 "metadata": {
  "kernelspec": {
   "display_name": "R",
   "language": "R",
   "name": "ir"
  },
  "language_info": {
   "codemirror_mode": "r",
   "file_extension": ".r",
   "mimetype": "text/x-r-source",
   "name": "R",
   "pygments_lexer": "r",
   "version": "3.6.1"
  }
 },
 "nbformat": 4,
 "nbformat_minor": 2
}
