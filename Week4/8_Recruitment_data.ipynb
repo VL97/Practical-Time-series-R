{
 "cells": [
  {
   "cell_type": "markdown",
   "metadata": {},
   "source": [
    "# Modeling recruitment time series from 'astsa' package as an AR process"
   ]
  },
  {
   "cell_type": "code",
   "execution_count": 31,
   "metadata": {},
   "outputs": [],
   "source": [
    "library(astsa)\n",
    "my.data=rec"
   ]
  },
  {
   "cell_type": "markdown",
   "metadata": {},
   "source": [
    "### Important step: subtract mean of X_t=𝜇 as done in slides"
   ]
  },
  {
   "cell_type": "code",
   "execution_count": 32,
   "metadata": {},
   "outputs": [],
   "source": [
    "ar.process=my.data-mean(my.data)"
   ]
  },
  {
   "cell_type": "code",
   "execution_count": 33,
   "metadata": {},
   "outputs": [
    {
     "data": {
      "image/png": "[encoded data removed]",
      "text/plain": [
       "Plot with title \"Recruitment\""
      ]
     },
     "metadata": {},
     "output_type": "display_data"
    }
   ],
   "source": [
    "# ACF and PACF of the process\n",
    "par(mfrow=c(3,1))\n",
    "plot(ar.process, main='Recruitment time series', col='blue')\n",
    "acf(ar.process, main='Recruitment', col='red', lwd=3)\n",
    "pacf(ar.process, main='Recruitment', col='green', lwd=3)"
   ]
  },
  {
   "cell_type": "markdown",
   "metadata": {},
   "source": [
    "clearly we must model a AR(2) as:<br>\n",
    "Note here phi0 is not 0<center> X_t = phi0 + phi1\\*X_(t-1) + phi2\\*X_(t-2) + Z_t </center>\n",
    "<center>Z_t ~ N(0, sigma^2) </center>"
   ]
  },
  {
   "cell_type": "code",
   "execution_count": 34,
   "metadata": {},
   "outputs": [
    {
     "name": "stdout",
     "output_type": "stream",
     "text": [
      "r= 0.9218042 0.7829182 \n"
     ]
    }
   ],
   "source": [
    "# order from PACF\n",
    "p=2\n",
    "\n",
    "# sample autocorreleation function r\n",
    "r=NULL\n",
    "r[1:p]=acf(ar.process, plot=F)$acf[2:(p+1)]\n",
    "cat('r=',r,'\\n')"
   ]
  },
  {
   "cell_type": "code",
   "execution_count": 35,
   "metadata": {},
   "outputs": [
    {
     "data": {
      "text/html": [
       "<table>\n",
       "<tbody>\n",
       "\t<tr><td>1.0000000</td><td>0.9218042</td></tr>\n",
       "\t<tr><td>0.9218042</td><td>1.0000000</td></tr>\n",
       "</tbody>\n",
       "</table>\n"
      ],
      "text/latex": [
       "\\begin{tabular}{ll}\n",
       "\t 1.0000000 & 0.9218042\\\\\n",
       "\t 0.9218042 & 1.0000000\\\\\n",
       "\\end{tabular}\n"
      ],
      "text/markdown": [
       "\n",
       "| 1.0000000 | 0.9218042 |\n",
       "| 0.9218042 | 1.0000000 |\n",
       "\n"
      ],
      "text/plain": [
       "     [,1]      [,2]     \n",
       "[1,] 1.0000000 0.9218042\n",
       "[2,] 0.9218042 1.0000000"
      ]
     },
     "metadata": {},
     "output_type": "display_data"
    }
   ],
   "source": [
    "# matrix R\n",
    "R=matrix(1,p,p) # matrix of dimension 2 by 2, with entries all 1's.\n",
    "\n",
    "# define non-diagonal entires of R\n",
    "for(i in 1:p){\n",
    "\tfor(j in 1:p){\n",
    "\t\tif(i!=j)\n",
    "\t\t\tR[i,j]=r[abs(i-j)]\n",
    "\t\t}\n",
    "\t}\n",
    "R"
   ]
  },
  {
   "cell_type": "code",
   "execution_count": 36,
   "metadata": {},
   "outputs": [
    {
     "data": {
      "text/html": [
       "<table>\n",
       "<tbody>\n",
       "\t<tr><td>0.9218042</td></tr>\n",
       "\t<tr><td>0.7829182</td></tr>\n",
       "</tbody>\n",
       "</table>\n"
      ],
      "text/latex": [
       "\\begin{tabular}{l}\n",
       "\t 0.9218042\\\\\n",
       "\t 0.7829182\\\\\n",
       "\\end{tabular}\n"
      ],
      "text/markdown": [
       "\n",
       "| 0.9218042 |\n",
       "| 0.7829182 |\n",
       "\n"
      ],
      "text/plain": [
       "     [,1]     \n",
       "[1,] 0.9218042\n",
       "[2,] 0.7829182"
      ]
     },
     "metadata": {},
     "output_type": "display_data"
    }
   ],
   "source": [
    "# b-column vector on the right\n",
    "b=NULL\n",
    "b=matrix(r,p,1)# b- column vector with no entries\n",
    "b"
   ]
  },
  {
   "cell_type": "code",
   "execution_count": 37,
   "metadata": {},
   "outputs": [
    {
     "data": {
      "text/html": [
       "<ol class=list-inline>\n",
       "\t<li>1.33158738866791</li>\n",
       "\t<li>-0.444544697634473</li>\n",
       "</ol>\n"
      ],
      "text/latex": [
       "\\begin{enumerate*}\n",
       "\\item 1.33158738866791\n",
       "\\item -0.444544697634473\n",
       "\\end{enumerate*}\n"
      ],
      "text/markdown": [
       "1. 1.33158738866791\n",
       "2. -0.444544697634473\n",
       "\n",
       "\n"
      ],
      "text/plain": [
       "[1]  1.3315874 -0.4445447"
      ]
     },
     "metadata": {},
     "output_type": "display_data"
    }
   ],
   "source": [
    "# solve(R,b) solves Rx=b, and gives x=R^(-1)b vector\n",
    "phi.hat=NULL\n",
    "phi.hat=solve(R,b)[,1]\n",
    "phi.hat"
   ]
  },
  {
   "cell_type": "code",
   "execution_count": 38,
   "metadata": {},
   "outputs": [
    {
     "data": {
      "text/html": [
       "780.990977796933"
      ],
      "text/latex": [
       "780.990977796933"
      ],
      "text/markdown": [
       "780.990977796933"
      ],
      "text/plain": [
       "[1] 780.991"
      ]
     },
     "metadata": {},
     "output_type": "display_data"
    }
   ],
   "source": [
    "#variance estimation using Yule-Walker Estimator\n",
    "c0=acf(ar.process, type='covariance', plot=F)$acf[1]\n",
    "c0"
   ]
  },
  {
   "cell_type": "code",
   "execution_count": 39,
   "metadata": {},
   "outputs": [
    {
     "data": {
      "text/html": [
       "94.1713101077287"
      ],
      "text/latex": [
       "94.1713101077287"
      ],
      "text/markdown": [
       "94.1713101077287"
      ],
      "text/plain": [
       "[1] 94.17131"
      ]
     },
     "metadata": {},
     "output_type": "display_data"
    }
   ],
   "source": [
    "var.hat=c0*(1-sum(phi.hat*r))\n",
    "var.hat"
   ]
  },
  {
   "cell_type": "code",
   "execution_count": 40,
   "metadata": {},
   "outputs": [
    {
     "data": {
      "text/html": [
       "7.03303626708593"
      ],
      "text/latex": [
       "7.03303626708593"
      ],
      "text/markdown": [
       "7.03303626708593"
      ],
      "text/plain": [
       "[1] 7.033036"
      ]
     },
     "metadata": {},
     "output_type": "display_data"
    }
   ],
   "source": [
    "# constant term in the model\n",
    "phi0.hat=mean(my.data)*(1-sum(phi.hat))\n",
    "phi0.hat"
   ]
  },
  {
   "cell_type": "code",
   "execution_count": 41,
   "metadata": {},
   "outputs": [
    {
     "name": "stdout",
     "output_type": "stream",
     "text": [
      "Constant: 7.033036  Coeffcinets: 1.331587 -0.4445447  and Variance: 94.17131 \n"
     ]
    }
   ],
   "source": [
    "cat(\"Constant:\", phi0.hat,\" Coeffcinets:\", phi.hat, \" and Variance:\", var.hat, '\\n')"
   ]
  }
 ],
 "metadata": {
  "kernelspec": {
   "display_name": "R",
   "language": "R",
   "name": "ir"
  },
  "language_info": {
   "codemirror_mode": "r",
   "file_extension": ".r",
   "mimetype": "text/x-r-source",
   "name": "R",
   "pygments_lexer": "r",
   "version": "3.6.1"
  }
 },
 "nbformat": 4,
 "nbformat_minor": 2
}
